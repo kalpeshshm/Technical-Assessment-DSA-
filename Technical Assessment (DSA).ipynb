{
 "cells": [
  {
   "cell_type": "markdown",
   "id": "4afc42d1",
   "metadata": {},
   "source": [
    "# Technical Assessment (DSA)"
   ]
  },
  {
   "cell_type": "markdown",
   "id": "ab985804",
   "metadata": {},
   "source": [
    "# Given a string str, your task is to write a program which takes a string str as its only input and returns an integer denoting the no of palindromic subsequence (need not necessarily be distinct) which could be formed from the string str."
   ]
  },
  {
   "cell_type": "code",
   "execution_count": null,
   "id": "d63c4b5a",
   "metadata": {},
   "outputs": [
    {
     "name": "stdout",
     "output_type": "stream",
     "text": [
      "10\n",
      "abcdef\n",
      "6\n"
     ]
    }
   ],
   "source": [
    "class Solution:\n",
    "    def __init__(self):\n",
    "        self.memo=\"\"\n",
    "    \n",
    "    def count(self,s,i,j):\n",
    "        if i>j:\n",
    "            return 0\n",
    "        if self.memo[i][j] != -1:\n",
    "            return self.memo[i][j]\n",
    "        if i==j:\n",
    "            self.memo[i][j]=1\n",
    "            return 1\n",
    "        elif s[i]==s[j]:\n",
    "            count=self.count(s,i+1,j)+self.count(s,i,j-1)+1\n",
    "            self.memo[i][j]=count\n",
    "            return count\n",
    "        else:\n",
    "            count= self.count(s,i+1,j)+self.count(s,i,j-1)-self.count(s,i+1,j-1)\n",
    "            self.memo[i][j]=count\n",
    "            return count\n",
    "    \n",
    "    def countPS(self,string):\n",
    "        self.memo=[[-1 for i in string] for j in string]\n",
    "        num=1000000007\n",
    "        return self.count(string,0,len(string)-1)%num\n",
    "import sys\n",
    "sys.setrecursionlimit(10**3)\n",
    "\n",
    "if __name__=='__main__':\n",
    "    t = int(input())\n",
    "    for i in range(t):\n",
    "        ob=Solution()\n",
    "        \n",
    "        print(ob.countPS(input().strip())) "
   ]
  },
  {
   "cell_type": "code",
   "execution_count": null,
   "id": "bc914cd4",
   "metadata": {},
   "outputs": [],
   "source": []
  }
 ],
 "metadata": {
  "kernelspec": {
   "display_name": "Python 3 (ipykernel)",
   "language": "python",
   "name": "python3"
  },
  "language_info": {
   "codemirror_mode": {
    "name": "ipython",
    "version": 3
   },
   "file_extension": ".py",
   "mimetype": "text/x-python",
   "name": "python",
   "nbconvert_exporter": "python",
   "pygments_lexer": "ipython3",
   "version": "3.10.0"
  }
 },
 "nbformat": 4,
 "nbformat_minor": 5
}
